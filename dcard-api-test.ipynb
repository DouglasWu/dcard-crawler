{
 "cells": [
  {
   "cell_type": "markdown",
   "metadata": {},
   "source": [
    "# Dcard API Test\n",
    "\n",
    "All the APIs you need to know for crawling Dcard's posts and comments."
   ]
  },
  {
   "cell_type": "code",
   "execution_count": 1,
   "metadata": {
    "collapsed": false
   },
   "outputs": [],
   "source": [
    "import urllib.request\n",
    "import json\n",
    "from bs4 import BeautifulSoup\n",
    "\n",
    "def get(url):\n",
    "    req = urllib.request.Request(url, headers={'User-Agent': 'Mozilla/5.0'})\n",
    "    response = urllib.request.urlopen(req).read().decode('utf-8')\n",
    "    return response\n",
    "\n",
    "# return all the forum names of dcard\n",
    "def get_forums():\n",
    "    url = \"https://www.dcard.tw/_api/forums\"\n",
    "    forums = json.loads(get(url))\n",
    "    return [f['alias'] for f in forums]\n",
    "\n",
    "# return the first 30 posts in the forum\n",
    "def get_forum_posts(forum_name, before=None):\n",
    "    url = \"https://www.dcard.tw/_api/forums/{}/posts?popular=false\".format(forum_name)\n",
    "    if before:\n",
    "        url += \"&before={}\".format(before)\n",
    "    return json.loads(get(url))\n",
    "\n",
    "def get_single_post(pid):\n",
    "    url = \"https://www.dcard.tw/_api/posts/{}\".format(pid)\n",
    "    return json.loads(get(url))\n",
    "\n",
    "def get_comment_by_pid(pid):\n",
    "    url = \"https://www.dcard.tw/_api/posts/{}/comments\".format(pid)\n",
    "    return json.loads(get(url))"
   ]
  },
  {
   "cell_type": "code",
   "execution_count": 2,
   "metadata": {
    "collapsed": false
   },
   "outputs": [
    {
     "name": "stdout",
     "output_type": "stream",
     "text": [
      "['springcouplet', 'timecapsule', 'vehicle', 'language', 'freshman', 'father', 'relationship', 'girl', 'makeup', 'dressup', 'funny', 'rainbow', 'marvel', 'boy', 'horoscopes', 'food', 'mood', 'pet', 'handicrafts', 'trending', 'talk', 'acg', 'game', 'pokemon', 'movie', 'photography', '3c', 'job', 'music', 'sport', 'travel', 'mother', 'book', 'studyabroad', 'literature', 'exam', 'course', 'bugreport', 'ecofriendly', 'sex', 'dcard', 'whysoserious', 'graduate', 'ntu', 'nccu', 'nctu', 'tku', 'ndhu', 'ncku', 'ntut', 'fju', 'ntnu', 'nknu', 'ncue', 'ncu', 'fcu', 'nthu', 'ncnu', 'thu', 'nkfust', 'ntust', 'nchu', 'yzu', 'nuu', 'ntou', 'nsysu', 'ntpu', 'cpu', 'ccu', 'usc', 'ym', 'ntua', 'shu', 'ntue', 'tnua', 'utaipei', 'pccu', 'scu', 'ncyu', 'nuk', 'nutc', 'ntunhs', 'isu', 'cgu', 'tmu', 'cycu', 'csmu', 'wzu', 'kuas', 'cgust', 'ncut', 'mcu', 'niu', 'nfu', 'nhcue', 'ttu', 'ntub', 'ntcu', 'nptu', 'pu', 'nkmu', 'cyut', 'ndu', 'stust', 'nkuht', 'cmu', 'cjcu', 'npust', 'mcut', 'asia', 'uch', 'stu', 'au', 'cnu', 'kmu', 'must', 'nttu', 'tut', 'nqu', 'dyu', 'nhu', 'ltu', 'fy', 'cute', 'tcust', 'tcu', 'chihlee', 'knu', 'hk', 'nutn', 'chu', 'takming', 'just', 'delete', 'lhu', 'yuntech', 'csu', 'feu', 'wfu', 'ctust', 'npu', 'ksu', 'hwai', 'ntupes', 'ocu', 'hwu', 'twu', 'hfu', 'fgu', 'vnu', 'oit', 'cku', 'ctu', 'tnu', 'nkut', 'sju', 'mdu', 'meiho', 'tnnua', 'ukn', 'ydu', 'kyu', 'cust', 'ypu', 'ntsu', 'tajen', 'tsu', 'hcu', 'nju', 'ccut', 'hwh', 'hust', 'tust', 'tpcu', 'mmc', 'dlit', 'tcmt', 'tiit', 'tcpa', 'lit', 'toko', 'fotech', 'dila', 'tht', 'apic', 'dahan', 'fit', 'cit', 'tf', 'ttc', 'smc', 'knjc', 'ctcn', 'ntin', 'hsc', 'kmvs', 'jente', 'cjc', 'mkc', 'mhchcm', 'szmc', 'yuhing', 'tzuhui', 'ndmctsgh', 'info']\n"
     ]
    }
   ],
   "source": [
    "print(get_forums())"
   ]
  },
  {
   "cell_type": "code",
   "execution_count": 3,
   "metadata": {
    "collapsed": false
   },
   "outputs": [
    {
     "name": "stdout",
     "output_type": "stream",
     "text": [
      "[{'forumName': '心情', 'title': '我發現媽媽的秘密㊙️', 'id': 225877766, 'likeCount': 6, 'replyTitle': None, 'forumAlias': 'mood', 'createdAt': '2017-02-25T17:33:48.837Z', 'tags': ['開著', '味道', '媽媽', '豐盛', '廚房', '似成', '燈開', '秘密', '密閉式', '走進', '些小', '回事', '廁所', '多煙', '發現', '些煙', '人會', '一如', '客廳', '往常', '什麼', '們有'], 'media': [], 'anonymousSchool': True, 'withNickname': False, 'forumId': '75a726e6-d4e3-4902-a410-2430a39fffcb', 'anonymousDepartment': True, 'replyId': None, 'gender': 'M', 'reportReason': '', 'updatedAt': '2017-02-25T17:33:48.837Z', 'pinned': False, 'excerpt': '這⋯真的嚇到我，也不知道該怎麼辦⋯⋯，某天一如往常的下課回家，媽媽不在廚房也不在客廳，發現家裡的廁所的燈開的，我自己認知啊媽媽在廁所，坐在客廳開著電視嗑餅乾，迫不及待媽媽煮豐盛晚餐，媽媽出來了！！，媽媽一如往常走進廚房裡，', 'commentCount': 9, 'hidden': False}, {'forumName': '心情', 'title': '後來才發覺...', 'id': 225877761, 'likeCount': 12, 'replyTitle': None, 'forumAlias': 'mood', 'createdAt': '2017-02-25T17:32:59.648Z', 'tags': ['取代', '見面', '或許', '總是', '別想', '好閨蜜', '好朋友', '主動', '發覺', '細節', '...', '違規', '少總', '步第', '冷戰', '..', '後來', '些話', '什麼', '姐妹', '不同', '過架', '心裡'], 'media': [], 'anonymousSchool': True, 'withNickname': False, 'forumId': '75a726e6-d4e3-4902-a410-2430a39fffcb', 'anonymousDepartment': True, 'replyId': None, 'gender': 'F', 'reportReason': '', 'updatedAt': '2017-02-25T17:47:19.778Z', 'pinned': False, 'excerpt': '一直以來在別人的眼裡，我們是好閨蜜.好姐妹.好朋友，因為我們同個學校.同班，所以我們非常要好，曾經吵過架也冷戰過，或許因為當時年紀小.不懂事，和好後我們比以前更好，畢業後因為不同校，每次見面都有講不完的話', 'commentCount': 1, 'hidden': False}, {'tags': ['魯亂魯', '23y', '魯了', '開放', 'get', '小魯中', '報名', '閃光', '魯大', '以下'], 'id': 225877755, 'anonymousSchool': False, 'forumAlias': 'mood', 'forumId': '75a726e6-d4e3-4902-a410-2430a39fffcb', 'gender': 'M', 'reportReason': '', 'replyTitle': None, 'forumName': '心情', 'title': '小魯中魯大魯亂魯', 'updatedAt': '2017-02-25T17:32:19.004Z', 'school': '中科大', 'createdAt': '2017-02-25T17:32:19.004Z', 'media': [], 'withNickname': False, 'commentCount': 4, 'likeCount': 4, 'replyId': None, 'anonymousDepartment': True, 'pinned': False, 'excerpt': '魯了23y，以下開放報名閃光get', 'hidden': False}, {'forumName': '心情', 'title': '一個挺同的轉變', 'id': 225877754, 'likeCount': 3, 'replyTitle': None, 'forumAlias': 'mood', 'createdAt': '2017-02-25T17:32:12.182Z', 'tags': ['挺同', '偽娘', '表示', '支持', '一面倒', '任何', '憤慨', '任一方', '論戰', '樂於', '同志', '蔡英文', '強調', '謬論', '反對', '過要', '法案', '不移', '爭論', '轉變', '對於'], 'media': [], 'anonymousSchool': True, 'withNickname': False, 'forumId': '75a726e6-d4e3-4902-a410-2430a39fffcb', 'anonymousDepartment': True, 'replyId': None, 'gender': 'F', 'reportReason': '', 'updatedAt': '2017-02-25T17:32:12.182Z', 'pinned': False, 'excerpt': '收到朋友傳來有關蔡英文與同志法案之間的新聞，讓我思考我個人對於同志看法的轉變，在此強調並沒有任何論戰的意思，只是單純分享感受，我喜歡異性，但曾經，我也是挺同的一份子，也用行動表示我的支持走在遊行的隊伍裡', 'commentCount': 0, 'hidden': False}, {'forumName': '心情', 'title': '畢旅，讓我知道自己有多幸運', 'id': 225877746, 'likeCount': 21, 'replyTitle': None, 'forumAlias': 'mood', 'createdAt': '2017-02-25T17:31:24.537Z', 'tags': ['一餐', '學貸', '畢旅', '名牌', '出了', '旅遊團', '沒錢', '幸運', 'i7', '群人', '匯錢', '多少', '有些', '到什麼', '媽去', '想去', '出國', '知道', '父母', '長大', '要辦'], 'media': [], 'anonymousSchool': True, 'withNickname': False, 'forumId': '75a726e6-d4e3-4902-a410-2430a39fffcb', 'anonymousDepartment': True, 'replyId': None, 'gender': 'F', 'reportReason': '', 'updatedAt': '2017-02-25T17:45:48.158Z', 'pinned': False, 'excerpt': '今年的暑假和朋友打算去畢業旅行，其實一開始很掙扎，不知道要留在台灣玩還是和其他的朋友一樣出國，所以我問了老爸（畢竟金主的話才算數），一開始出國旅遊團只有少少的人，老爸跟我說，「畢旅不就是大家一起去玩才有意義嗎？」', 'commentCount': 2, 'hidden': False}, {'tags': ['擦身而過', '超壞', '整個', '家長', '清洗', '多遠', '現在', '了班', '夜市', '作為', '小孩', '怎麼', '腳上', '沿路', '攤位', '大媽', '轉身', '恐龍', '整雙', '錯愕', '鞋子', '糟蹋', '嘔吐物'], 'id': 225877740, 'anonymousSchool': False, 'forumAlias': 'mood', 'forumId': '75a726e6-d4e3-4902-a410-2430a39fffcb', 'gender': 'M', 'reportReason': '', 'replyTitle': None, 'forumName': '心情', 'title': '現在的家長怎麼了…', 'updatedAt': '2017-02-25T17:30:51.100Z', 'school': '環球科大', 'createdAt': '2017-02-25T17:30:51.100Z', 'media': [], 'withNickname': False, 'commentCount': 5, 'likeCount': 17, 'replyId': None, 'anonymousDepartment': True, 'pinned': False, 'excerpt': '事情是這樣發生的……，今天下了班和朋友去逛了夜市，遇到一個大媽抱著一個小孩，就在擦身而過的時候我突然感覺到我的鞋子一陣濕，不看還好 看了各種髒話都出來了，那個小孩就這樣吐在我腳上（哦不我新買的鞋啊），整雙鞋子都是嘔吐物，當下整個錯愕啊但是小孩忍不住 好ok我能接受，但是作為長輩的你們呢？只跟我說這個擦一擦就好，然後轉身離開，連一句道歉都不會說是怎樣最後還是旁邊攤位幫忙才找到清洗的地方，一整個心情超壞，沿路看到其他小孩，搞得我能閃多遠就閃多遠…', 'hidden': False}, {'forumName': '心情', 'title': '神扯的學弟妹', 'id': 225877732, 'likeCount': 12, 'replyTitle': None, 'forumAlias': 'mood', 'createdAt': '2017-02-25T17:29:02.649Z', 'tags': ['教授', '直接', '不能', '學妹', '透露', '學弟', '說話', '神扯', '.........', '討厭', '那邊', '早八', '好了', '休學', '真是', '睡覺', '什麼', '期末考', '奇葩', '讀書', '學弟妹'], 'media': [], 'anonymousSchool': True, 'withNickname': False, 'forumId': '75a726e6-d4e3-4902-a410-2430a39fffcb', 'anonymousDepartment': True, 'replyId': None, 'gender': 'M', 'reportReason': '', 'updatedAt': '2017-02-26T13:02:23.494Z', 'pinned': False, 'excerpt': '一堆學弟學妹那邊一直說，討厭讀書很煩 想休學去啦，很煩 都有早八 害我不能睡覺，煩 教授很廢 期末考哪 都不直接透露，還什麼要找人去跟教授說話。。.........，幹，真是奇葩的學弟妹，不要讀好了', 'commentCount': 1, 'hidden': False}, {'forumName': '心情', 'title': '關於：「那對夫妻」', 'id': 225877730, 'likeCount': 85, 'replyTitle': None, 'forumAlias': 'mood', 'createdAt': '2017-02-25T17:28:33.856Z', 'tags': ['聽過', '夫妻', '妮妮', '他們', '最近', '...', '斷氣', '開車', '紅什麼', '媽媽', '關於', '笑到', '一群', '排行榜', '白癡', '飛過', '天才', '什麼', '車上', '會放', '烏鴉'], 'media': [], 'anonymousSchool': True, 'withNickname': False, 'forumId': '75a726e6-d4e3-4902-a410-2430a39fffcb', 'anonymousDepartment': True, 'replyId': None, 'gender': 'F', 'reportReason': '', 'updatedAt': '2017-03-20T02:27:03.820Z', 'pinned': False, 'excerpt': '昨天跟天才媽媽開車出去，在車上都會放音樂聽，突然想到最近很紅的一首歌「妮妮」（？以下是我：媽媽：的對話：媽媽～你知道最近哪一首歌排行榜第一嗎？什麼歌...，你有聽過「那對夫妻」嗎？他們有一首歌叫妮妮。', 'commentCount': 14, 'hidden': False}, {'tags': ['遇過', '人手', '基隆人', '除濕機', '雨天', '...', '基隆', '月間', '稱做', '住了', '搬來', '心煩', '奢求', '棉被', '天好', '365', '幾乎', '早期', '晴天', '月到'], 'id': 225877723, 'anonymousSchool': False, 'forumAlias': 'mood', 'forumId': '75a726e6-d4e3-4902-a410-2430a39fffcb', 'gender': 'M', 'reportReason': '', 'replyTitle': None, 'forumName': '心情', 'title': '基隆的雨', 'updatedAt': '2017-02-26T03:02:03.279Z', 'school': '國立臺灣海洋大學', 'createdAt': '2017-02-25T17:27:17.718Z', 'media': [], 'withNickname': False, 'commentCount': 13, 'likeCount': 30, 'replyId': None, 'anonymousDepartment': True, 'pinned': False, 'excerpt': '在基隆住了20幾年，早期基隆 被稱做 「雨都」記得最高遇過一年365天幾乎 200天在下雨，也有1月到3月間 只有兩天好天氣的紀錄，身為基隆人幾乎人手一把傘，基隆的雨讓人十分憂鬱，基隆的雨總是下的人心煩', 'hidden': False}, {'forumName': '心情', 'title': '＜黑特文＞那年，我住在召會姊妹之家', 'id': 225877701, 'likeCount': 9, 'replyTitle': None, 'forumAlias': 'mood', 'createdAt': '2017-02-25T17:24:40.551Z', 'tags': ['教會', '永生', '基督徒', '屬於', '召會', '受浸', '參加', '主日', '基督教', '研究社', '聽過', '甚麼', '黑特', '他們', '福音', '忙西', '忙東', '姐姐', '聚會', '姊妹', '禱告', '心裡'], 'media': [], 'anonymousSchool': True, 'withNickname': False, 'forumId': '75a726e6-d4e3-4902-a410-2430a39fffcb', 'anonymousDepartment': True, 'replyId': None, 'gender': 'F', 'reportReason': '', 'updatedAt': '2017-02-25T17:24:40.551Z', 'pinned': False, 'excerpt': '以下言論僅本人立場及經歷，請勿太過於嚴肅看待，我是一個個性隨和，但保有自己想法的小孩。以往，常常在街上遇到基督教的信徒傳福音，或是認識基督教的朋友、親戚，她們人都不錯，以前我也很好奇我那些基督教的同學們，也羨慕他們在教會多一個交友圈，和樂融融，有時我遇到傳福音的朋友為我禱告，我會感到很開心、很平安，但現在的我卻遲疑了．．．', 'commentCount': 10, 'hidden': False}, {'forumName': '心情', 'title': '租的？送的？', 'id': 225877625, 'likeCount': 5, 'replyTitle': None, 'forumAlias': 'mood', 'createdAt': '2017-02-25T17:13:54.960Z', 'tags': ['鞋給', '協議', '3980', '別人', '重點', '月租費', '喜歡', '收下', '再嫌', '東西', '後來', '到好', '還錢', '乾不脆', '多少', '要錢', '什麼', '鞋子', '..', '4580'], 'media': [], 'anonymousSchool': True, 'withNickname': False, 'forumId': '75a726e6-d4e3-4902-a410-2430a39fffcb', 'anonymousDepartment': True, 'replyId': None, 'gender': 'F', 'reportReason': '', 'updatedAt': '2017-02-25T17:33:23.057Z', 'pinned': False, 'excerpt': '我想發文，其實也只是想抱怨一下，去年認識了一個男生，他很直接的說要追我，我想給我們一次機會，但因為我覺得我不夠喜歡他，覺得這樣在一起他要的我沒辦法給他，所以我一直努力想讓自己多喜歡他一點，我們沒有在一起', 'commentCount': 4, 'hidden': False}, {'forumName': '心情', 'title': '留學生的心情廢文', 'id': 225877620, 'likeCount': 7, 'replyTitle': None, 'forumAlias': 'mood', 'createdAt': '2017-02-25T17:13:08.173Z', 'tags': ['瘋狂', '過到', '伴侶', '空虛', '廢文', '平時', '心情', '上課', '填滿', '感動', '假日', '留學生', '邊緣人', '可憐', '劇情', '泡面', '韓劇', '好玩', '寂寞', '單身', '尤其', '報告'], 'media': [], 'anonymousSchool': True, 'withNickname': False, 'forumId': '75a726e6-d4e3-4902-a410-2430a39fffcb', 'anonymousDepartment': True, 'replyId': None, 'gender': 'F', 'reportReason': '', 'updatedAt': '2017-02-25T17:13:42.198Z', 'pinned': False, 'excerpt': '你以為留學生的生活都很好玩嗎？其實除了瘋狂地上課，上班，趕報告，剩下的時間是被空虛和寂寞填滿，尤其像我這種邊緣人+單身狗，平時沒有朋友 沒有伴侶，吃飯上課甚麽都只能一個人過，到了假日連室友也沒有，大家都回家了', 'commentCount': 1, 'hidden': False}, {'tags': ['告訴', '要刺', '自己', '並且', '不能', '熱愛', '意義', '就是', '真的', '忘本', '說真的', '圖', '衝動', '刺青', '旅行'], 'id': 225877613, 'anonymousSchool': False, 'forumAlias': 'mood', 'forumId': '75a726e6-d4e3-4902-a410-2430a39fffcb', 'gender': 'M', 'reportReason': '', 'replyTitle': None, 'forumName': '心情', 'title': '#圖 想了很久的刺青', 'updatedAt': '2017-02-25T17:12:36.454Z', 'school': '長榮大學', 'createdAt': '2017-02-25T17:12:36.454Z', 'media': [{'url': 'https://i.imgur.com/Kej6qvB.jpg'}], 'withNickname': False, 'commentCount': 2, 'likeCount': 23, 'replyId': None, 'anonymousDepartment': True, 'pinned': False, 'excerpt': '刺青就是要刺一個對自己有意義的圖，我熱愛旅行並且告訴我自己不能忘本，說真的要去刺青真的要有一股衝動', 'hidden': False}, {'tags': ['還要', '放大', '因為', '討厭', '八卦'], 'id': 225877610, 'anonymousSchool': False, 'forumAlias': 'mood', 'forumId': '75a726e6-d4e3-4902-a410-2430a39fffcb', 'gender': 'F', 'reportReason': '', 'replyTitle': None, 'forumName': '心情', 'title': '最討厭的文', 'updatedAt': '2017-02-25T17:11:35.707Z', 'school': '雲科大', 'createdAt': '2017-02-25T17:11:35.707Z', 'media': [{'url': 'https://i.imgur.com/Byq5ZB6.jpg'}, {'url': 'https://i.imgur.com/f9cOhDN.jpg'}], 'withNickname': False, 'commentCount': 2, 'likeCount': 9, 'replyId': None, 'anonymousDepartment': True, 'pinned': False, 'excerpt': '因為很八卦 還要放大再放大再放大', 'hidden': False}, {'forumName': '心情', 'title': '獨生女', 'id': 225877599, 'likeCount': 4, 'replyTitle': None, 'forumAlias': 'mood', 'createdAt': '2017-02-25T17:10:22.877Z', 'tags': ['二八', '二二八', '回鄉', '掉一滴', '冷清', '堂姊', '襯托', '會回鄉', '團聚', '截圖', '刪除', '連二', '一家人', '你們', '星期一', '將來', '熱鬧', '獨生女', '兄妹', '親朋好友', '侵權'], 'media': [{'url': 'https://i.imgur.com/aWWiTxx.jpg'}], 'anonymousSchool': True, 'withNickname': False, 'forumId': '75a726e6-d4e3-4902-a410-2430a39fffcb', 'anonymousDepartment': True, 'replyId': None, 'gender': 'F', 'reportReason': '', 'updatedAt': '2017-02-25T17:10:22.877Z', 'pinned': False, 'excerpt': '小時候，親朋好友常常聚在一起，就連二二八也會回鄉下團聚，長大後，大家漸漸安排出去玩，沒回鄉下了，過年的熱鬧襯托著二二八的冷清，謝謝你們一家人，只有你們兄妹回鄉下陪我，雖然星期一還要補習，待兩天就回去了', 'commentCount': 0, 'hidden': False}, {'forumName': '心情', 'title': '#圖 有人看過這隻小豬嗎', 'id': 225877583, 'likeCount': 3, 'replyTitle': None, 'forumAlias': 'mood', 'createdAt': '2017-02-25T17:09:00.906Z', 'tags': ['收著', '選牌', '狗狗', '玩偶', '或是', '一直', '現在', '記得', '買尚', '除了', '小豬', '有熊', '一樣', '十年', '豬豬', '葡萄乾', '看過', '小時候', '圖', '樣子', '娃娃', '不同', '應該'], 'media': [{'url': 'https://i.imgur.com/7aTzFYP.jpg'}], 'anonymousSchool': True, 'withNickname': False, 'forumId': '75a726e6-d4e3-4902-a410-2430a39fffcb', 'anonymousDepartment': True, 'replyId': None, 'gender': 'F', 'reportReason': '', 'updatedAt': '2017-02-25T17:09:00.906Z', 'pinned': False, 'excerpt': '小時候買尚選牌葡萄乾送的，現在應該快十年了（？）娃娃我一直收著（笑，有人有一樣的或是不同款玩偶嗎~，我記得除了豬豬的還有熊跟狗狗的樣子', 'commentCount': 0, 'hidden': False}, {'forumName': '心情', 'title': '色字頭上一把🔪', 'id': 225877581, 'likeCount': 3, 'replyTitle': None, 'forumAlias': 'mood', 'createdAt': '2017-02-25T17:08:40.466Z', 'tags': ['戰堂', '竹聯幫戰堂雷豹', '雷豹', '報了', '麼買', '叫受害者購置mycard點數', '跟你要手機號碼', '利誘', '詐騙', '捍衛隊', '保證金會以', '老招', '保證金', '尾聲以威脅你家人做結尾', '三小', '竹聯幫', '正反面', '色字', '6000', '全部', '點買', '....', 'mycard', '購置', '2小時', '跟你要身分證正反面', '什麼', '網路詐騙鱉三', '頭上', '點數'], 'media': [], 'anonymousSchool': True, 'withNickname': False, 'forumId': '75a726e6-d4e3-4902-a410-2430a39fffcb', 'anonymousDepartment': True, 'replyId': None, 'gender': 'M', 'reportReason': '', 'updatedAt': '2017-02-25T18:10:04.104Z', 'pinned': False, 'excerpt': '代PO，小弟今天2017/02/25晚間6：00左右，發生了跟各位相同的事情，小的不才總共被騙了6000，6000塊買了經驗。#2小時 $3000，#跟你要手機號碼，#跟你要身分證正反面，#叫受害者購置MYCARD點數（大家在笨可能都有警惕甚麼買點買三小點的，所以他會叫你報~密碼全部+序號後5碼~！！注意這邊！！你報了後5碼一樣，他就是有辦法儲值點數）', 'commentCount': 0, 'hidden': False}, {'forumName': '心情', 'title': '到底有沒有報應？', 'id': 225877544, 'likeCount': 5, 'replyTitle': None, 'forumAlias': 'mood', 'createdAt': '2017-02-25T17:02:32.387Z', 'tags': ['男人', '出軌', '女人', '垃圾', '有沒有', '白目', '形容', '白眼', '不足', '風聲', '踐踏', '報應', '禮拜', '辛苦', '女友', '得到', '仁慈', '一萬', '到底', '沸沸', '心靈', '洋洋'], 'media': [], 'anonymousSchool': True, 'withNickname': False, 'forumId': '75a726e6-d4e3-4902-a410-2430a39fffcb', 'anonymousDepartment': True, 'replyId': None, 'gender': 'F', 'reportReason': '', 'updatedAt': '2017-02-25T17:02:32.387Z', 'pinned': False, 'excerpt': '一個男人，跟一個交往快兩年的女友分手，不到一個禮拜，跟一個剛認識兩個禮拜的女人在一起，不到一個月，被大家傳的沸沸洋洋的，那個前女友也是聽到風聲，才知道原來那男人不是不愛了，而是不只不愛了還早就心靈出軌', 'commentCount': 2, 'hidden': False}, {'forumName': '心情', 'title': '寫帖子的體悟', 'id': 225877459, 'likeCount': 3, 'replyTitle': None, 'forumAlias': 'mood', 'createdAt': '2017-02-25T16:51:51.129Z', 'tags': ['換帖', '在心', '請帖', '難能可貴', '體悟', '可貴', '每半年', '兄弟會', '帖子', '串起', '86', '阿公', '喜帖', '稱兄道弟', '謹記', '些人', '幾人', '聯絡', '阿公家', '情誼', '了別', '兄弟'], 'media': [], 'anonymousSchool': True, 'withNickname': False, 'forumId': '75a726e6-d4e3-4902-a410-2430a39fffcb', 'anonymousDepartment': True, 'replyId': None, 'gender': 'F', 'reportReason': '', 'updatedAt': '2017-02-25T16:51:51.129Z', 'pinned': False, 'excerpt': '今天回阿公家幫忙寫請帖，不是結婚喜帖 也不是生日請帖，是兄弟會聚餐請帖，阿公有一群很要好的換帖兄弟，從年輕一直認識到現在，每半年固定吃飯一次 聯繫感情，阿公今年已經86歲了，但依然把這些兄弟謹記在心，不忘聯絡彼此 問候對方', 'commentCount': 0, 'hidden': False}, {'forumName': '心情', 'title': '不敢說出口的話', 'id': 225877438, 'likeCount': 5, 'replyTitle': None, 'forumAlias': 'mood', 'createdAt': '2017-02-25T16:48:19.432Z', 'tags': ['說出口', '浪費', '類組', '學習', '收入', '一切', '人際', '人會', '男友', '薪水', '不可或缺', '出去', '坐享其成', '直銷', '理解', '聽信', '在乎', '選錯', '必須', '好累', '搞好'], 'media': [], 'anonymousSchool': True, 'withNickname': False, 'forumId': '75a726e6-d4e3-4902-a410-2430a39fffcb', 'anonymousDepartment': True, 'replyId': None, 'gender': 'F', 'reportReason': '', 'updatedAt': '2017-02-25T16:48:19.432Z', 'pinned': False, 'excerpt': '大三了，工程類組，想和其他女生一樣美美的，但是因為選錯路 選到自己不擅長的，也堅持努力學習 為自己的選擇負責，花了很多時間理解 也不被理解為何如此笨，總是被唸 唸我怎麼那麼不用心，越唸越自卑 越唸越沒有動力', 'commentCount': 1, 'hidden': False}, {'tags': ['什麼', '句話', '流汗', '皮膚炎', '長庚', '長頸鹿', '護理', '今天', '皮膚', '前先', '自信', '黑特', '屑屑', '簡述', '...', '體質', '無論', '會掉', '人員', '異位性', '1.2', '表弟', '林口'], 'id': 225877428, 'anonymousSchool': False, 'forumAlias': 'mood', 'forumId': '75a726e6-d4e3-4902-a410-2430a39fffcb', 'gender': 'M', 'reportReason': '', 'replyTitle': None, 'forumName': '心情', 'title': '#黑特 林口長庚護理師', 'updatedAt': '2017-02-25T16:46:39.175Z', 'school': '臺東大學', 'createdAt': '2017-02-25T16:46:39.175Z', 'media': [], 'withNickname': False, 'commentCount': 12, 'likeCount': 68, 'replyId': None, 'anonymousDepartment': True, 'pinned': False, 'excerpt': '看正文前先簡述一下我表弟的狀況，我表弟從出生開始就有嚴重的異位性皮膚炎，一年四季都在癢，只要輕抓皮膚就會掉屑屑，夏天流汗更不用說 就是整天不舒服，這種體質需要靠，藥物跟運動飲食收穫作息等等改善，但運動會流汗 流汗會更養 所以我表弟寧可不運動', 'hidden': False}, {'forumName': '心情', 'title': '家裡的冰箱', 'id': 225877414, 'likeCount': 3, 'replyTitle': None, 'forumAlias': 'mood', 'createdAt': '2017-02-25T16:44:43.425Z', 'tags': ['什麼', '交不到', '離世', '空空', '冰箱', '肥肥', '一進', '空空如也', '吃貨', '後家', '亂吼', '阿嬤', '填滿', '癌症', '哥哥', '一家人', '家裡', '避風港', '...', '冷清', '亂叫'], 'media': [], 'anonymousSchool': True, 'withNickname': False, 'forumId': '75a726e6-d4e3-4902-a410-2430a39fffcb', 'anonymousDepartment': True, 'replyId': None, 'gender': 'F', 'reportReason': '', 'updatedAt': '2017-02-25T16:50:57.467Z', 'pinned': False, 'excerpt': '每次很久沒回家，一進家門除了亂吼亂叫就是開冰箱，一打開~，空空如也我哭，媽媽肚子餓餓啦~，後來我才發現，我跟哥哥兩個小孩到外地上課後，家裡就很少一家人一起吃飯，大家工作時間不一樣，常常就直接在外面解決', 'commentCount': 0, 'hidden': False}, {'forumName': '心情', 'title': '班上幹部到底幹嘛的', 'id': 225877389, 'likeCount': 27, 'replyTitle': None, 'forumAlias': 'mood', 'createdAt': '2017-02-25T16:41:12.320Z', 'tags': ['什麼', '加分', '登記', '別班', '一問三不知', '停車場', '導師', '幹嘛', '..', '班群', '正經', '外面', '班上', '事情', '禮拜', '幹部', '回祝', '停車證', '到底', '自願', '去辦', '出了'], 'media': [], 'anonymousSchool': True, 'withNickname': False, 'forumId': '75a726e6-d4e3-4902-a410-2430a39fffcb', 'anonymousDepartment': True, 'replyId': None, 'gender': 'F', 'reportReason': '', 'updatedAt': '2017-02-25T16:51:35.808Z', 'pinned': False, 'excerpt': '以下純屬發洩文，不喜歡勿砲我，----------------------------------------------------------------------，其實覺得說班上的同學竟然都自願當幹部了', 'commentCount': 11, 'hidden': False}, {'forumName': '心情', 'title': '有卡友跟沒卡友一樣...', 'id': 225877376, 'likeCount': 11, 'replyTitle': None, 'forumAlias': 'mood', 'createdAt': '2017-02-25T16:39:21.264Z', 'tags': ['什麼', '抽到', '切入', '那你', '邀請', '聊天', '送出', '後來', '介紹', '兩樣', '愚蠢', '雙方', '過年', '原諒', '正題', '一樣', '廢話', '...', '開胡', '卡友', '自我'], 'media': [], 'anonymousSchool': True, 'withNickname': False, 'forumId': '75a726e6-d4e3-4902-a410-2430a39fffcb', 'anonymousDepartment': True, 'replyId': None, 'gender': 'F', 'reportReason': '', 'updatedAt': '2017-03-01T19:51:15.332Z', 'pinned': False, 'excerpt': '事情是這樣的，剛開始用Dcard的時候不知道怎麼抽卡，後來才知道雙方都要送出邀請才能聊天，請大家原諒我的愚蠢，廢話不多說切入正題，後來在過年時終於抽到卡友了，因為是第一個卡友所以很開心，就像開胡一樣，但聊沒幾天就謝謝下一位了', 'commentCount': 4, 'hidden': False}, {'forumName': '心情', 'title': '開學', 'id': 225877355, 'likeCount': 14, 'replyTitle': None, 'forumAlias': 'mood', 'createdAt': '2017-02-25T16:36:13.546Z', 'tags': ['做到', '應該', '落人', '上進', '迷津', '方向', '前前後後', '選擇性', '課業', '隨緣', '脫魯', '男孩子', '開學', '指導', '希望', '障礙', '始終', '感覺', '如何是好', '硬邦邦'], 'media': [], 'anonymousSchool': True, 'withNickname': False, 'forumId': '75a726e6-d4e3-4902-a410-2430a39fffcb', 'anonymousDepartment': True, 'replyId': None, 'gender': 'F', 'reportReason': '', 'updatedAt': '2017-02-25T16:41:50.006Z', 'pinned': False, 'excerpt': '開學一週了，不知為何有這樣的感覺，不知是開學對課業的壓力，還是自己對人生方向的不確定，總之，就是有種不舒服的感覺，我好希望自己能上進一點，我希望老師人也很好，不要這麼硬邦邦的，我一直都很認真很努力，不希望自己落人後', 'commentCount': 1, 'hidden': False}, {'forumName': '心情', 'title': '最深刻的一次摩天輪', 'id': 225877340, 'likeCount': 4, 'replyTitle': None, 'forumAlias': 'mood', 'createdAt': '2017-02-25T16:34:08.703Z', 'tags': ['眼下', '偷襲', '離不開', '莫名', '著手', '深刻', '美麗華', '夢時代', '浪漫', '介紹', '不斷', '圖是', '視線', '那一', '美景', '去年', '望著', '欲罷不能', '台北', '執著', '摩天輪'], 'media': [{'url': 'https://i.imgur.com/56XBHwu.jpg'}], 'anonymousSchool': True, 'withNickname': False, 'forumId': '75a726e6-d4e3-4902-a410-2430a39fffcb', 'anonymousDepartment': True, 'replyId': None, 'gender': 'F', 'reportReason': '', 'updatedAt': '2017-02-25T16:34:08.703Z', 'pinned': False, 'excerpt': '從小對摩天輪就有一種莫名的執著，我最喜歡去年跟你搭的那一次，在台北的美麗華，你不斷跟我介紹眼下的美景，可是我的視線一直離不開你，我覺得那是最浪漫的一次，我們牽著手，我們望著彼此，我一直偷襲你的唇，欲罷不能。', 'commentCount': 0, 'hidden': False}, {'forumName': '心情', 'title': '不爽', 'id': 225877332, 'likeCount': 4, 'replyTitle': None, 'forumAlias': 'mood', 'createdAt': '2017-02-25T16:31:42.758Z', 'tags': ['討厭', '回甚麼', '不爽', '一密', '意思'], 'media': [], 'anonymousSchool': True, 'withNickname': False, 'forumId': '75a726e6-d4e3-4902-a410-2430a39fffcb', 'anonymousDepartment': True, 'replyId': None, 'gender': 'F', 'reportReason': '', 'updatedAt': '2017-02-25T16:31:42.758Z', 'pinned': False, 'excerpt': '我討厭你，都不回我，她一密你秒回，甚麼意思嘛', 'commentCount': 2, 'hidden': False}, {'forumName': '心情', 'title': '告白請先酒測', 'id': 225877327, 'likeCount': 4, 'replyTitle': None, 'forumAlias': 'mood', 'createdAt': '2017-02-25T16:31:05.263Z', 'tags': ['要不要', '深埋', '告白', '相識', '許久', '喝醉', '請先', '暈船', '消失', '女朋友', '名詞', '峰迴路轉', '此人', '一年', '試問', '酒測', '心裡', '久久', '會開', '那天', '三更半夜', '朋友', '幾乎'], 'media': [], 'anonymousSchool': True, 'withNickname': False, 'forumId': '75a726e6-d4e3-4902-a410-2430a39fffcb', 'anonymousDepartment': True, 'replyId': None, 'gender': 'F', 'reportReason': '', 'updatedAt': '2017-02-25T16:31:05.263Z', 'pinned': False, 'excerpt': '我跟他相識在交友軟體認識了一年多，也是遠距離“朋友”一年見面沒幾次，卻幾乎每天電話聊天久久一次的視訊電話，跟我較好的朋友們都知道他，而我也先暈船了卻不想破壞朋友這名詞，所以決定將對他的感情深埋，但那天三更半夜他打電話來，', 'commentCount': 4, 'hidden': False}, {'forumName': '心情', 'title': '這樣的朋友', 'id': 225877285, 'likeCount': 6, 'replyTitle': None, 'forumAlias': 'mood', 'createdAt': '2017-02-25T16:26:10.672Z', 'tags': ['什麼', '好看', '情況', '覺得', '放錯', '好可愛', '男朋友', '複雜', '朋友', '睡衣', '這樣', '有點', '說不定', '應付', '....', '..', '搭配', '如何是好', '喜歡', '...', '好吃'], 'media': [], 'anonymousSchool': True, 'withNickname': False, 'forumId': '75a726e6-d4e3-4902-a410-2430a39fffcb', 'anonymousDepartment': True, 'replyId': None, 'gender': 'F', 'reportReason': '', 'updatedAt': '2017-02-25T16:26:10.672Z', 'pinned': False, 'excerpt': '第一次寫這個 不知道有沒有放錯版，我 有一個很好的朋友 認識很久，但總會發生這樣的事情，情況一，：欸你要不要吃這個我覺得很好吃，：不要 我不喜歡吃這個 你怎麼會喜歡吃這麼奇怪的東西？！，但是明明是很多人都愛吃的...', 'commentCount': 6, 'hidden': False}, {'tags': ['警察局', '洗衣服', '菜市場', '真偽', '發行', '防偽', '櫃上', '進了', '遇過', '6500', '電費', '櫃哥', '房東', '硬幣', '先生', '了些', '心裡', '大哥', '警局', '多元', '10', '此時'], 'id': 225877238, 'anonymousSchool': False, 'forumAlias': 'mood', 'forumId': '75a726e6-d4e3-4902-a410-2430a39fffcb', 'gender': 'M', 'reportReason': '', 'replyTitle': None, 'forumName': '心情', 'title': '#小更新 為了10元，和房東進了警局', 'updatedAt': '2017-03-18T03:24:27.325Z', 'school': '嶺東科大', 'createdAt': '2017-02-25T16:21:14.041Z', 'media': [{'url': 'https://i.imgur.com/cEUCFIM.jpg'}, {'url': 'https://i.imgur.com/qGhpJnr.jpg'}], 'withNickname': False, 'commentCount': 122, 'likeCount': 5208, 'replyId': None, 'anonymousDepartment': True, 'pinned': False, 'excerpt': '首先有點意外竟然會有這麼多愛心！，先謝謝大家，有關心安慰我的、教大家如何算電費的等等，謝謝你們！，剛剛朋友傳訊息給我才發現已經上了FB，＊新聞別來抄寫謝謝＊，＊新聞別來抄寫謝謝＊，我會發這篇純粹想和大家分享一下', 'hidden': False}]\n"
     ]
    }
   ],
   "source": [
    "print(get_forum_posts(\"mood\", 225877769))"
   ]
  },
  {
   "cell_type": "code",
   "execution_count": 4,
   "metadata": {
    "collapsed": false,
    "scrolled": false
   },
   "outputs": [
    {
     "name": "stdout",
     "output_type": "stream",
     "text": [
      "{'tags': ['出現', '說出口', '受過', '朋友', '感覺出', '重蹈覆轍', '心意', '任何', '無法', '生命', '傷害', '永遠', '想法', '看來', '如果', '機會', '苦笑', '喜歡', '其實', '明顯', '興趣', '何時', '男生'], 'id': 226017471, 'anonymousSchool': True, 'forumAlias': 'mood', 'forumId': '75a726e6-d4e3-4902-a410-2430a39fffcb', 'gender': 'F', 'reportReason': '', 'replyTitle': None, 'content': '朋友問我\\n到底有沒有跟那個男生在一起\\n我只能苦笑的說\\n沒有…\\n其實很明顯的可以感覺出\\n那個男生對我沒興趣\\n\\n而我自己的想法呢\\n其實我很想喜歡卻也不想喜歡\\n\\n想喜歡是因為就是真的喜歡他\\n不想喜歡是因為曾經受過傷害\\n不想再重蹈覆轍\\n\\n所以如果他對我沒有任何的想法\\n我們就永遠只會是朋友\\n\\n如果他對我有那麼一點意思\\n我想或許我們會有可能\\n\\n但就我看來\\n是朋友的機會比較大呀！！！！😭😭😭\\n\\n生命中那個對的人何時要出現？？', 'forumName': '心情', 'hiddenByAuthor': False, 'title': '無法說出口的心意', 'updatedAt': '2017-03-20T07:53:43.909Z', 'createdAt': '2017-03-20T07:53:43.909Z', 'media': [], 'withNickname': False, 'commentCount': 0, 'likeCount': 4, 'replyId': None, 'anonymousDepartment': True, 'pinned': False, 'excerpt': '朋友問我，到底有沒有跟那個男生在一起，我只能苦笑的說，沒有…，其實很明顯的可以感覺出，那個男生對我沒興趣，而我自己的想法呢，其實我很想喜歡卻也不想喜歡，想喜歡是因為就是真的喜歡他，不想喜歡是因為曾經受過傷害', 'hidden': False}\n"
     ]
    }
   ],
   "source": [
    "print(get_single_post(226017471))"
   ]
  },
  {
   "cell_type": "code",
   "execution_count": 5,
   "metadata": {
    "collapsed": false
   },
   "outputs": [
    {
     "name": "stdout",
     "output_type": "stream",
     "text": [
      "[{'content': '不然怎麼榨國庫，拿回饋？\\n\\n就像國外用的鋪磚機，臺灣人研發的耶。\\n臺灣法律跟政府不準用。\\n\\n就像臺灣農業很先進，但就是不支持還打壓。\\n然後技術被大陸挖去，（高福利聘請過去技術指導，之後全部充公趕臺農。\\n外國學去，（我知道日本交流，德國也有。\\n臺灣還是不輔助、不支持農民…\\n\\n臺灣黨派應該是互相監督，國家才會強。\\n但是一堆沒腦的就是互相撕逼，臺灣政治與整體發展才……', 'inReview': False, 'updatedAt': '2017-03-20T09:34:58.332Z', 'host': False, 'school': '建國科技大學', 'createdAt': '2017-03-20T09:34:58.332Z', 'floor': 1, 'withNickname': False, 'likeCount': 0, 'postId': 226017990, 'gender': 'M', 'anonymous': True, 'reportReason': '', 'id': 'caf1a353-abfa-49c6-8c9a-8d3db24cae95', 'hidden': False}, {'content': '路上水溝蓋一大堆超煩的', 'inReview': False, 'updatedAt': '2017-03-20T11:26:33.686Z', 'host': False, 'school': '臺東大學', 'createdAt': '2017-03-20T11:26:33.686Z', 'floor': 2, 'withNickname': False, 'likeCount': 0, 'postId': 226017990, 'gender': 'M', 'anonymous': True, 'reportReason': '', 'id': '6d5c593e-0c8b-457b-9196-12dc890a9185', 'hidden': False}]\n"
     ]
    }
   ],
   "source": [
    "print(get_comment_by_pid(226017990))"
   ]
  }
 ],
 "metadata": {
  "kernelspec": {
   "display_name": "Python 3",
   "language": "python",
   "name": "python3"
  },
  "language_info": {
   "codemirror_mode": {
    "name": "ipython",
    "version": 3
   },
   "file_extension": ".py",
   "mimetype": "text/x-python",
   "name": "python",
   "nbconvert_exporter": "python",
   "pygments_lexer": "ipython3",
   "version": "3.5.1"
  }
 },
 "nbformat": 4,
 "nbformat_minor": 0
}
