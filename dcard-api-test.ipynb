{
 "cells": [
  {
   "cell_type": "markdown",
   "metadata": {},
   "source": [
    "# Dcard API Test\n",
    "\n",
    "All the APIs you need to know for crawling Dcard's posts and comments."
   ]
  },
  {
   "cell_type": "code",
   "execution_count": 1,
   "metadata": {},
   "outputs": [],
   "source": [
    "import urllib.request\n",
    "import json\n",
    "from bs4 import BeautifulSoup\n",
    "\n",
    "def get(url):\n",
    "    req = urllib.request.Request(url, headers={'User-Agent': 'Mozilla/5.0'})\n",
    "    response = urllib.request.urlopen(req).read().decode('utf-8')\n",
    "    return response\n",
    "\n",
    "# return all the forum names of dcard\n",
    "def get_forums():\n",
    "    url = \"https://www.dcard.tw/_api/forums\"\n",
    "    forums = json.loads(get(url))\n",
    "    return [f['alias'] for f in forums]\n",
    "\n",
    "# return the first 30 posts in the forum\n",
    "def get_forum_posts(forum_name, before=None):\n",
    "    url = \"https://www.dcard.tw/_api/forums/{}/posts?popular=false\".format(forum_name)\n",
    "    if before:\n",
    "        url += \"&before={}\".format(before)\n",
    "    return json.loads(get(url))\n",
    "\n",
    "def get_single_post(pid):\n",
    "    url = \"https://www.dcard.tw/_api/posts/{}\".format(pid)\n",
    "    return json.loads(get(url))\n",
    "\n",
    "def get_comment_by_pid(pid):\n",
    "    url = \"https://www.dcard.tw/_api/posts/{}/comments\".format(pid)\n",
    "    return json.loads(get(url))"
   ]
  },
  {
   "cell_type": "code",
   "execution_count": 6,
   "metadata": {
    "collapsed": true
   },
   "outputs": [],
   "source": [
    "forums = get_forums()"
   ]
  },
  {
   "cell_type": "code",
   "execution_count": 8,
   "metadata": {},
   "outputs": [
    {
     "data": {
      "text/plain": [
       "False"
      ]
     },
     "execution_count": 8,
     "metadata": {},
     "output_type": "execute_result"
    }
   ],
   "source": []
  },
  {
   "cell_type": "code",
   "execution_count": 2,
   "metadata": {},
   "outputs": [
    {
     "name": "stdout",
     "output_type": "stream",
     "text": [
      "['mother', 'springcouplet', 'timecapsule', 'buyonline', 'father', 'freshman', 'graduate', 'fitness', 'boyslove', 'relationship', 'girl', 'makeup', 'entertainer', 'dressup', 'sport', 'funny', 'sportsevents', 'vehicle', 'rainbow', 'marvel', 'horoscopes', 'food', 'pet', 'handicrafts', 'trending', 'talk', 'mood', 'movie', 'tvepisode', 'music', 'acg', 'game', 'boy', 'pokemon', 'photography', '3c', 'job', 'travel', 'book', 'language', 'studyabroad', 'literature', 'exam', 'course', 'bugreport', 'ecofriendly', 'sex', 'dcard', 'whysoserious', 'ntu', 'nccu', 'nctu', 'tku', 'ndhu', 'ncku', 'ntut', 'fju', 'ntnu', 'nknu', 'ncue', 'ncu', 'fcu', 'nthu', 'ncnu', 'thu', 'nkfust', 'ntust', 'nchu', 'yzu', 'nuu', 'ntou', 'nsysu', 'ntpu', 'cpu', 'ccu', 'usc', 'ym', 'ntua', 'shu', 'ntue', 'tnua', 'utaipei', 'pccu', 'scu', 'ncyu', 'nuk', 'nutc', 'ntunhs', 'isu', 'cgu', 'tmu', 'cycu', 'csmu', 'wzu', 'kuas', 'cgust', 'ncut', 'mcu', 'niu', 'nfu', 'nhcue', 'ttu', 'ntub', 'ntcu', 'nptu', 'pu', 'nkmu', 'cyut', 'ndu', 'stust', 'nkuht', 'cmu', 'cjcu', 'npust', 'mcut', 'asia', 'uch', 'stu', 'au', 'cnu', 'kmu', 'must', 'nttu', 'tut', 'nqu', 'dyu', 'nhu', 'ltu', 'fy', 'cute', 'tcust', 'tcu', 'chihlee', 'knu', 'hk', 'nutn', 'chu', 'takming', 'just', 'delete', 'lhu', 'yuntech', 'csu', 'feu', 'wfu', 'ctust', 'npu', 'ksu', 'hwai', 'ntupes', 'ocu', 'hwu', 'twu', 'hfu', 'fgu', 'vnu', 'oit', 'cku', 'ctu', 'tnu', 'nkut', 'sju', 'mdu', 'meiho', 'tnnua', 'ukn', 'ydu', 'kyu', 'cust', 'ypu', 'ntsu', 'tajen', 'tsu', 'hcu', 'nju', 'ccut', 'hwh', 'hust', 'tust', 'tpcu', 'mmc', 'dlit', 'tumt', 'nanya', 'tcpa', 'lit', 'toko', 'fotech', 'dila', 'apic', 'tht', 'dahan', 'fit', 'cit', 'tf', 'ttc', 'smc', 'knjc', 'ctcn', 'ntin', 'hsc', 'kmvs', 'jente', 'cjc', 'mkc', 'mhchcm', 'szmc', 'yuhing', 'tzuhui', 'ndmctsgh', 'info', 'aaroc', 'tpa', 'athlete']\n"
     ]
    }
   ],
   "source": [
    "print(get_forums())"
   ]
  },
  {
   "cell_type": "code",
   "execution_count": 3,
   "metadata": {
    "scrolled": true
   },
   "outputs": [
    {
     "name": "stdout",
     "output_type": "stream",
     "text": [
      "[{'id': 227608258, 'title': '#問  有推薦的搞笑電影嗎？？', 'excerpt': '有推薦的搞笑電影嗎？？什麼都可以  夠好笑就好，有的話快告訴我吧～～', 'anonymousSchool': False, 'anonymousDepartment': True, 'pinned': False, 'forumId': '275e0c11-82d0-43df-9606-502f5727716d', 'replyId': None, 'createdAt': '2017-11-02T01:01:45.896Z', 'updatedAt': '2017-11-02T01:01:45.896Z', 'commentCount': 9, 'likeCount': 0, 'withNickname': False, 'tags': ['問', '什麼', '電影', '推薦'], 'forumName': '電影', 'forumAlias': 'movie', 'gender': 'M', 'school': '南亞技術學院', 'replyTitle': None, 'reportReason': '', 'hidden': False, 'withImages': False, 'withVideos': False, 'media': []}, {'id': 227607476, 'title': '#問#殭屍片', 'excerpt': '這部片是在我國小的時候看到的，好像是香港殭屍片，有個片段是類似在學校的地方，有一隻殭屍爆炸，牠的血濺到一群人身上，牠的血好像會吸引另一群殭屍，他們之中有一男一女沒有被沾到，那女的就跑出去求救，沒被沾到血的那個男的就被有沾到血的人抹了一身血，真可憐', 'anonymousSchool': False, 'anonymousDepartment': True, 'pinned': False, 'forumId': '275e0c11-82d0-43df-9606-502f5727716d', 'replyId': None, 'createdAt': '2017-11-01T18:28:04.589Z', 'updatedAt': '2017-11-01T18:31:10.658Z', 'commentCount': 8, 'likeCount': 4, 'withNickname': False, 'tags': ['一隻', '第一個', '解決辦法', 'orz', '殭屍', '殭屍片', '那個', '利用', '被有', '他們', '這部', '香港', '的人', '真可憐', '沾到', '這個', '類似', '鐘聲', '血濺', '中有'], 'forumName': '電影', 'forumAlias': 'movie', 'gender': 'M', 'school': '國立彰化師範大學', 'replyTitle': None, 'reportReason': '', 'hidden': False, 'withImages': False, 'withVideos': False, 'media': []}, {'id': 227605642, 'title': '#情報#差點認不出！羅伯派汀森滿臉鬍子\\u3000爆發演技被外媒狂讚', 'excerpt': '《暮光之城》男主角羅伯派汀森（Robert Pattinson）大崩壞！他腰圍胖了一圈、蓄鬍、一頭亂髮演出新片《失速夜狂奔》（Good Time）演活一名泥足深陷的銀行劫犯，為了救出獄中的弟弟，在凶險的地下社會面對一連串危機四伏的挑戰，演技被外媒公認為他從影生涯的絕對代表作。', 'anonymousSchool': False, 'anonymousDepartment': False, 'pinned': False, 'forumId': '275e0c11-82d0-43df-9606-502f5727716d', 'replyId': None, 'createdAt': '2017-11-01T15:17:02.940Z', 'updatedAt': '2017-11-01T16:21:46.217Z', 'commentCount': 4, 'likeCount': 27, 'withNickname': False, 'tags': ['賈許', '80', '弟弟', 'safdie', '情報', '演技', '外媒', '銀行', '坎城影展', '沙夫', '康尼', '導演', '從影', '作品', '差點認不出', '陰錯陽差', '混亂', '為了', '羅伯', '滿臉', '危機四伏', '認不出', '獄中', '一個'], 'forumName': '電影', 'forumAlias': 'movie', 'gender': 'F', 'school': '臺灣藝術大學', 'department': '電影學系', 'replyTitle': None, 'reportReason': '', 'hidden': False, 'withImages': True, 'withVideos': False, 'media': [{'url': 'https://i.imgur.com/enhDkL0.jpg'}, {'url': 'https://i.imgur.com/o9UqUhl.jpg'}]}, {'id': 227605095, 'title': '#雄影首映 #有雷 《愛情，最好是這獸》', 'excerpt': '《愛情，最好是這獸》- 「人道」與「獸道」的一線之隔，導演：內田英治，演員：伊藤沙莉、須賀健太、富手麻妙、吉村界人、川上奈奈美，「或許，在生存的這條路上，我們都在人道與獸道間輪迴著......」這次高雄電影節中，《愛情，最好是這獸》（獸道）算是我最期待的首映日片之一，導演內田英治承繼著過往的風格，帶著一種現實逼迫下的狂放，去詮釋在這現實下的人們，是怎麼逐步脫離人道，進而走向獸道，然而，這樣的崩解與批判，和以往的作品有何不同呢？', 'anonymousSchool': False, 'anonymousDepartment': True, 'pinned': False, 'forumId': '275e0c11-82d0-43df-9606-502f5727716d', 'replyId': None, 'createdAt': '2017-11-01T14:25:07.492Z', 'updatedAt': '2017-11-01T14:25:07.492Z', 'commentCount': 1, 'likeCount': 5, 'withNickname': False, 'tags': ['田英治', '各種', '現實', '須賀健太', '人道', '愛情', '獸性', '伊藤沙莉', '輪迴', '這次', '雄影', '獸道', '這個', '詮釋', '導演', '英治', '有雷', '角色', '風格', '內田', '觀眾', '進而', '雄影首映'], 'forumName': '電影', 'forumAlias': 'movie', 'gender': 'M', 'school': '義守大學', 'replyTitle': None, 'reportReason': '', 'hidden': False, 'withImages': True, 'withVideos': False, 'media': [{'url': 'http://i.imgur.com/GHLQY2z.jpg'}, {'url': 'http://i.imgur.com/yD3FO0g.jpg'}, {'url': 'http://i.imgur.com/UAdBZQh.jpg'}, {'url': 'http://i.imgur.com/hx6Zkbk.jpg'}]}, {'id': 227602056, 'title': '#有雷#DC《守護者》觀後心得與推薦', 'excerpt': '因為有吃飯配影片的習慣，所以常常載些舊電影來看。之前朋友推薦我看這部片。《守護者》默默的花了一整個下午看完。因為實在有點黑暗跟沈重，而且又有很多我個人很喜歡的喬段，所以又重複琢磨著一些片段。我真的太喜歡這部片了！！！', 'anonymousSchool': False, 'anonymousDepartment': False, 'pinned': False, 'forumId': '275e0c11-82d0-43df-9606-502f5727716d', 'replyId': None, 'createdAt': '2017-11-01T07:02:25.641Z', 'updatedAt': '2017-11-01T07:02:25.641Z', 'commentCount': 6, 'likeCount': 6, 'withNickname': True, 'tags': ['舊電影', '守護者', '沈重', '曼哈頓', '觀後', '展現出來', 'dc', '博士', '黑暗', '英雄', '這部', '嗓音', '推薦', '喬段', '有雷', '暫停', '過癮', '風格', '羅夏', '赤裸裸', '來看', '個人', '無疑'], 'forumName': '電影', 'forumAlias': 'movie', 'gender': 'M', 'school': '轉空', 'department': 'firecake', 'replyTitle': None, 'reportReason': '', 'hidden': False, 'withImages': True, 'withVideos': False, 'media': [{'url': 'https://i.imgur.com/XiO3Dtt.jpg'}]}, {'id': 227599199, 'title': '#問  國賓A+', 'excerpt': '會員卡限本人使用嗎？我家想半一張一起使用，抽查機率會不會很高ㄚ', 'anonymousSchool': False, 'anonymousDepartment': True, 'pinned': False, 'forumId': '275e0c11-82d0-43df-9606-502f5727716d', 'replyId': None, 'createdAt': '2017-10-31T18:03:28.260Z', 'updatedAt': '2017-11-01T07:39:05.600Z', 'commentCount': 6, 'likeCount': 2, 'withNickname': False, 'tags': ['會員卡', '一張'], 'forumName': '電影', 'forumAlias': 'movie', 'gender': 'F', 'school': '義守大學', 'replyTitle': None, 'reportReason': '', 'hidden': False, 'withImages': False, 'withVideos': False, 'media': []}, {'id': 227597310, 'title': '#有雷 怪獸與牠們的產地2預告', 'excerpt': '沒有啦，我只是用標題把你們騙進來，我們頻道最近拍了這個主題，來板上賣笑，還請鞭小力一點', 'anonymousSchool': False, 'anonymousDepartment': False, 'pinned': False, 'forumId': '275e0c11-82d0-43df-9606-502f5727716d', 'replyId': None, 'createdAt': '2017-10-31T14:41:17.942Z', 'updatedAt': '2017-10-31T18:02:51.036Z', 'commentCount': 3, 'likeCount': 6, 'withNickname': True, 'tags': ['HIDE_THUMBNAIL'], 'forumName': '電影', 'forumAlias': 'movie', 'gender': 'M', 'school': '未來的百萬油兔伯', 'department': 'bingstory', 'replyTitle': None, 'reportReason': '', 'hidden': False, 'withImages': False, 'withVideos': False, 'media': []}, {'id': 227595901, 'title': '#popcorn time 字幕上不了?', 'excerpt': '我是用windows popcorn time 5.6.1，我想請問為什麼我的字幕都顯示不出來，而且我不管試了幾組都不成功，（更新之前成功率蠻大 但聲音很小），而且新版的搜尋功能有點糟，比如我搜尋taken 2', 'anonymousSchool': False, 'anonymousDepartment': True, 'pinned': False, 'forumId': '275e0c11-82d0-43df-9606-502f5727716d', 'replyId': None, 'createdAt': '2017-10-31T11:41:21.611Z', 'updatedAt': '2017-10-31T12:06:33.490Z', 'commentCount': 1, 'likeCount': 3, 'withNickname': False, 'tags': ['幾組', '之類', 'jaws', '6.1', '成功率', '功能', '上網', '5.', 'windows', '字幕', '第一個', '什麼', 'taken', '第二個', 'time', 'home', '顯示', '搜尋', 'alone', 'popcorn'], 'forumName': '電影', 'forumAlias': 'movie', 'gender': 'F', 'school': '僑光科技大學', 'replyTitle': None, 'reportReason': '', 'hidden': False, 'withImages': False, 'withVideos': False, 'media': []}, {'id': 227594424, 'title': '#心得 #微雷 #雷神索爾:諸神黃昏', 'excerpt': '與以往很不一樣的雷神索爾，網路目前評價不錯，（截止今天 imdb8.2超高分 毒蛇網也有73），除了畫面仍維持高水準，劇情上解構上變的很詼諧，之前看索爾3的預告.，還以為在看星際異攻隊.......，電影笑點則有點白痴哈哈 尤其是索爾跟浩克（班納）', 'anonymousSchool': False, 'anonymousDepartment': True, 'pinned': False, 'forumId': '275e0c11-82d0-43df-9606-502f5727716d', 'replyId': None, 'createdAt': '2017-10-31T07:51:48.519Z', 'updatedAt': '2017-11-01T17:04:03.402Z', 'commentCount': 17, 'likeCount': 36, 'withNickname': False, 'tags': ['心得', '諸神黃昏', '配樂', '星際異攻隊', '索爾', '音樂', 'imd', '漫威', '雷神索爾', '有點', '班納', '電影', '微雷', '上變', '詼諧', '73', '超帥', '宗師', '還有', '高水準', '浩克', '預告', '毒蛇'], 'forumName': '電影', 'forumAlias': 'movie', 'gender': 'M', 'school': '宜蘭大學', 'replyTitle': None, 'reportReason': '', 'hidden': False, 'withImages': True, 'withVideos': False, 'media': [{'url': 'https://i.imgur.com/llp5wOU.jpg'}]}, {'id': 227594013, 'title': '支持電影就是要走進電影院 #動漫電影', 'excerpt': '邁進11月期待今年七月出品的，神奇寶貝鳳王，跟，no game no life zero，可是巴哈一直都沒說是11月幾號只知道在11月', 'anonymousSchool': False, 'anonymousDepartment': True, 'pinned': False, 'forumId': '275e0c11-82d0-43df-9606-502f5727716d', 'replyId': None, 'createdAt': '2017-10-31T06:40:39.347Z', 'updatedAt': '2017-11-01T23:16:08.429Z', 'commentCount': 7, 'likeCount': 9, 'withNickname': False, 'tags': ['邁進', 'zero', 'game', '神奇寶貝', '動漫', '電影院', '動漫電影', '走進', 'no', '幾號', '電影', '11月', 'life', '鳳王', '出品'], 'forumName': '電影', 'forumAlias': 'movie', 'gender': 'M', 'school': '長榮大學', 'replyTitle': None, 'reportReason': '', 'hidden': False, 'withImages': False, 'withVideos': False, 'media': []}, {'id': 227593778, 'title': '#情報 2017金馬影展看哪部？', 'excerpt': '2017 金馬國際影展將於 11 月 3 日至 24 日於台北舉行，金馬獎下個月就要到了～～最近影展就要開始了不曉得大家有選了哪些片呢？附上電影節目表給大家～～2017 台北金馬影展\\u3000遨遊精采萬分的電影世界', 'anonymousSchool': False, 'anonymousDepartment': True, 'pinned': False, 'forumId': '275e0c11-82d0-43df-9606-502f5727716d', 'replyId': None, 'createdAt': '2017-10-31T06:00:31.909Z', 'updatedAt': '2017-10-31T14:57:22.350Z', 'commentCount': 3, 'likeCount': 12, 'withNickname': False, 'tags': ['金馬國際影展', '金馬獎', '201', '曉得', '節目表', '開始', '台北', '大家', '情報', '金馬影展', '下個月', '舉行', '電影'], 'forumName': '電影', 'forumAlias': 'movie', 'gender': 'F', 'school': '世新大學', 'replyTitle': None, 'reportReason': '', 'hidden': False, 'withImages': False, 'withVideos': False, 'media': []}, {'id': 227592477, 'title': '#問#雷神3', 'excerpt': '有人跟我一樣覺得浩克這集呆呆der嘛？', 'anonymousSchool': False, 'anonymousDepartment': False, 'pinned': False, 'forumId': '275e0c11-82d0-43df-9606-502f5727716d', 'replyId': None, 'createdAt': '2017-10-31T02:34:33.073Z', 'updatedAt': '2017-11-01T12:55:57.074Z', 'commentCount': 9, 'likeCount': 22, 'withNickname': False, 'tags': ['覺得', '浩克', '呆呆', 'der', '一樣'], 'forumName': '電影', 'forumAlias': 'movie', 'gender': 'F', 'school': '輔仁大學', 'department': '護理學系', 'replyTitle': None, 'reportReason': '', 'hidden': False, 'withImages': True, 'withVideos': False, 'media': [{'url': 'https://i.imgur.com/nnkxulP.jpg'}]}, {'id': 227590808, 'title': '季春奶奶 #超級大推', 'excerpt': '如果要用一個字來代表這個電影，那個字應該就是「愛」。金高銀跟尹汝貞的演技真的超好，一開始孫女回來時候那種陌生防備的姿態到最後敞開心胸的樣子都有傳達出來、奶奶最後的老年癡呆症也演得很傳神。看到奶奶這樣一心想著孫女，無條件愛著無論是什麼樣子的她就真的超感動。', 'anonymousSchool': False, 'anonymousDepartment': True, 'pinned': False, 'forumId': '275e0c11-82d0-43df-9606-502f5727716d', 'replyId': None, 'createdAt': '2017-10-30T17:13:28.927Z', 'updatedAt': '2017-10-30T17:13:28.927Z', 'commentCount': 4, 'likeCount': 48, 'withNickname': False, 'tags': ['那個', '什麼', '季春', '電影', '樣子', '敞開', '心胸', '孫女', '老年癡呆症', '一個', '演技', '奶奶', '高銀', '那種', '感動', '尹汝貞', '防備', '得很', '傳達出來', '這個'], 'forumName': '電影', 'forumAlias': 'movie', 'gender': 'F', 'school': '亞洲大學', 'replyTitle': None, 'reportReason': '', 'hidden': False, 'withImages': False, 'withVideos': False, 'media': []}, {'id': 227590162, 'title': '#情報#手機廣告-屍約', 'excerpt': '看完電影以後認真覺得這是廣告長片，🤓🤓🤓🤓🤓，從一開始恐怖陰暗小房間透過手機錄影，整個明亮許多的呈現在高品質螢幕上，到媽媽錄女兒夢遊時1%電力還可以繼續錄，近40秒不斷電，再來就是視訊時，滿版螢幕+高清畫質', 'anonymousSchool': False, 'anonymousDepartment': False, 'pinned': False, 'forumId': '275e0c11-82d0-43df-9606-502f5727716d', 'replyId': None, 'createdAt': '2017-10-30T16:13:16.331Z', 'updatedAt': '2017-10-31T12:56:01.451Z', 'commentCount': 5, 'likeCount': 12, 'withNickname': False, 'tags': ['HIDE_THUMBNAIL'], 'forumName': '電影', 'forumAlias': 'movie', 'gender': 'F', 'school': '銘傳大學', 'department': '應用中國文學系', 'replyTitle': None, 'reportReason': '', 'hidden': False, 'withImages': False, 'withVideos': False, 'media': []}, {'id': 227589360, 'title': '問# 一部很久以前的(吸血鬼？)電影', 'excerpt': '故事背景大概是描述吸血鬼真的存在，但是都會偽裝身份看起來像一般人一樣，吸血方式是把人弄暈 戳一個小傷口加減吸一點，所以人類有時候身上有些沒印象受傷的傷口就是這樣來的，故事在講一個男孩被毒蜘蛛咬到，而老吸血鬼要他當跟班才願意救他', 'anonymousSchool': False, 'anonymousDepartment': False, 'pinned': False, 'forumId': '275e0c11-82d0-43df-9606-502f5727716d', 'replyId': None, 'createdAt': '2017-10-30T15:04:57.619Z', 'updatedAt': '2017-10-30T15:04:57.619Z', 'commentCount': 12, 'likeCount': 9, 'withNickname': False, 'tags': ['', '一個', '一般人', '偽裝', '看起來', '咬到', '電影', '毒蜘蛛', '這部', '吸血鬼', '傷口', '故事', '什麼', '背景', '印象', '成為', '人類', '一個男孩', '受傷', '身份', '弄暈', '加減'], 'forumName': '電影', 'forumAlias': 'movie', 'gender': 'M', 'school': '大同大學', 'department': '事業經營學系', 'replyTitle': None, 'reportReason': '', 'hidden': False, 'withImages': False, 'withVideos': False, 'media': []}, {'id': 227588742, 'title': '#雄影 #開幕 《東京夜空最深藍》', 'excerpt': '《東京夜空最深藍》- 在這「愛即死」的世界，導演：石井裕也，演員：池松壯亮、松田龍平、石橋靜河，「若愛，是代表一種死亡，那我寧願選擇孤寂......」這次高雄電影節的另一部開幕片《東京夜空最深藍》，導演帶著石井裕也現實生存、情感交流、生死交錯等交織而成的寫實詩篇，展開了一場路線豐沛，卻也倍感寂寞的定位之旅，石井裕也在映後也特別強調，希望這部片在現代的日本，可以給予一些年輕一代的日本人，甚至是還在社會底層奮鬥的人們，能夠帶著希望，勇敢地走下去，但整體效果，是否真有辦法給予近20年積弱不振的日本，這樣的理想呢？', 'anonymousSchool': False, 'anonymousDepartment': True, 'pinned': False, 'forumId': '275e0c11-82d0-43df-9606-502f5727716d', 'replyId': None, 'createdAt': '2017-10-30T13:53:09.526Z', 'updatedAt': '2017-10-30T13:53:09.526Z', 'commentCount': 0, 'likeCount': 6, 'withNickname': False, 'tags': ['日本人', '情感', '對於', '人們', '給予', '東京', '毀滅', '池松壯亮', '社會', '奮鬥', '導演', '石井裕也', '現代', '一種', '日本', '石橋', '雄影', '開幕', '詩篇', '靜河', '夜空', '深藍'], 'forumName': '電影', 'forumAlias': 'movie', 'gender': 'M', 'school': '義守大學', 'replyTitle': None, 'reportReason': '', 'hidden': False, 'withImages': True, 'withVideos': False, 'media': [{'url': 'http://i.imgur.com/D9n64or.jpg'}, {'url': 'http://i.imgur.com/7VUdDIi.jpg'}, {'url': 'http://i.imgur.com/Tdohdle.jpg'}]}, {'id': 227588543, 'title': '#問 一部滿久的電影', 'excerpt': '大概是國小以前或左右看過的，（本人84年次，西洋片，內容：一開始類似核爆 還是什麼大爆炸在叢林的樣子，然後有一個領便當的開吉普車想逃離，但失敗整個人類似開始融化，大概是一個類似生化武器的東西，有一群大魔王的軍隊要搶那個東西，而那個東西在主角手上', 'anonymousSchool': False, 'anonymousDepartment': True, 'pinned': False, 'forumId': '275e0c11-82d0-43df-9606-502f5727716d', 'replyId': None, 'createdAt': '2017-10-30T13:31:39.616Z', 'updatedAt': '2017-10-31T16:58:21.913Z', 'commentCount': 4, 'likeCount': 4, 'withNickname': False, 'tags': ['84年', '一個', '大魔王', '什麼', '大爆炸', '逃離', '談判', '跟著', '那個', '東西', '手上', '垂釣', '類似', '叢林', '領便當', '軍隊', '吉普車', '主角', '橋上', '西洋'], 'forumName': '電影', 'forumAlias': 'movie', 'gender': 'M', 'school': '慈濟大學', 'replyTitle': None, 'reportReason': '', 'hidden': False, 'withImages': False, 'withVideos': False, 'media': []}, {'id': 227587332, 'title': '#問 雷神3', 'excerpt': '一個小小的問題，綠巨人為什麼會在那個星球上呢？我之前漫威的電影幾乎都有看，但現在有點亂了，還有綠巨人恢復清醒之後說前幾分鐘才跟洛基打完，問一下雷神3是在哪部之後的電影呢？', 'anonymousSchool': False, 'anonymousDepartment': True, 'pinned': False, 'forumId': '275e0c11-82d0-43df-9606-502f5727716d', 'replyId': None, 'createdAt': '2017-10-30T10:19:16.609Z', 'updatedAt': '2017-10-31T05:33:13.746Z', 'commentCount': 12, 'likeCount': 5, 'withNickname': False, 'tags': ['星球', '現在', '一個', '有點', '綠巨人', '幾分鐘', '那個', '小小的', '為什麼', '幾乎', '電影', '問題', '漫威', '之後', '還有', '雷神'], 'forumName': '電影', 'forumAlias': 'movie', 'gender': 'M', 'school': '東海大學', 'replyTitle': None, 'reportReason': '', 'hidden': False, 'withImages': False, 'withVideos': False, 'media': []}, {'id': 227586738, 'title': '#有感有推 #翻滾吧!男人', 'excerpt': '人生中的不完美有時候才能襯托出人生的精采，正是因為即便努力也會遭遇挫折及失敗，這部片才更令人覺得真實，後來的成功才更令人喜悅，《翻滾吧！男人》中讓我有這種深深的體悟。克強在《翻滾吧！男孩中》是林教練覺得最有天賦的孩子，而智凱則是後天努力的選手，即便兩人在體操的過程中經歷不同訓練，最後還是因為熱愛體操最終又在國家隊中相見，兩個人都有自己需要面對的問題。就像我們每個人一樣，或許因為喜愛一樣的事情聚在一起，但每個人在這條路上會遇到的阻礙都不同－同樣一段道路，每個人所見的風景都不同。', 'anonymousSchool': False, 'anonymousDepartment': True, 'pinned': False, 'forumId': '275e0c11-82d0-43df-9606-502f5727716d', 'replyId': None, 'createdAt': '2017-10-30T08:43:56.671Z', 'updatedAt': '2017-10-31T18:17:32.761Z', 'commentCount': 1, 'likeCount': 35, 'withNickname': False, 'tags': ['世大運', '的人', '教練', '這個', '這部', '體操', '克強', '遭遇', '男人', '挫折', '每個人', '白費', '選手', '出賽', '中的', '智凱', '國家隊', '翻滾', '過程', '片中', '翻滾吧', '因為', '有感有推'], 'forumName': '電影', 'forumAlias': 'movie', 'gender': 'F', 'school': '世新大學', 'replyTitle': None, 'reportReason': '', 'hidden': False, 'withImages': False, 'withVideos': False, 'media': []}, {'id': 227586180, 'title': '#心得 環太平洋2 預告', 'excerpt': '睽違已久的環太平洋2：起義時刻在不久前終於釋出預告了 雖然依舊讓人熱血沸騰 但個人是覺得有幾點讓我覺得沒有像第一集那麼好，1.整部電影的色調，在第一集裡面，畫面上幾乎都是以黑色調與灰色調為主，藉此營造出凝重與緊張的氛圍，然而第二集卻大有不同，從預告中看來走的是完全亮色系的畫面 這讓凝重的氛圍瞬間砍了一半', 'anonymousSchool': False, 'anonymousDepartment': True, 'pinned': False, 'forumId': '275e0c11-82d0-43df-9606-502f5727716d', 'replyId': None, 'createdAt': '2017-10-30T07:09:48.261Z', 'updatedAt': '2017-10-31T17:44:00.130Z', 'commentCount': 8, 'likeCount': 20, 'withNickname': False, 'tags': ['藉此', '熱血沸騰', '電影', '預告', '灰色調', '獵人', '色調', '起義', '釋出', '整部', '氛圍', '覺得', '機甲', '營造出', '怪獸', '景甜', '幾點', '睽違', '心得', '環太平洋', '個人'], 'forumName': '電影', 'forumAlias': 'movie', 'gender': 'M', 'school': '靜宜大學', 'replyTitle': None, 'reportReason': '', 'hidden': False, 'withImages': True, 'withVideos': False, 'media': [{'url': 'https://i.imgur.com/6mrhJQm.jpg'}, {'url': 'https://i.imgur.com/YQLLJvQ.jpg'}, {'url': 'https://i.imgur.com/PieEJON.jpg'}]}, {'id': 227585479, 'title': '#問題 這個恐怖片', 'excerpt': '有一齣電影 有兩個女生一起去一個村莊放鬆，結果那個村莊的人都會把年輕女孩的腳砍掉，綁在樹幹上。好像還有一個女生一直喊剪刀剪刀。然後其中一個女主角的男友也是村莊的人。這是哪齣電影', 'anonymousSchool': False, 'anonymousDepartment': False, 'pinned': False, 'forumId': '275e0c11-82d0-43df-9606-502f5727716d', 'replyId': None, 'createdAt': '2017-10-30T05:01:09.622Z', 'updatedAt': '2017-11-01T16:51:25.170Z', 'commentCount': 8, 'likeCount': 7, 'withNickname': False, 'tags': ['HIDE_THUMBNAIL'], 'forumName': '電影', 'forumAlias': 'movie', 'gender': 'M', 'school': '文藻外語大學', 'department': '英國語言系', 'replyTitle': None, 'reportReason': '', 'hidden': False, 'withImages': False, 'withVideos': False, 'media': []}, {'id': 227583719, 'title': '雷神3 #Hela', 'excerpt': '前幾天看完雷神3，被海拉氣場殺一個不要不要的，有一幕真的是瞬間電暈，就是他回到阿斯嘉要人民臣服結果把大家殺光光，然後就搖搖擺擺向前走說了一句oh~miss this，真要被她的氣場壓迫到窒息了️，其實我是凱特腦粉️', 'anonymousSchool': False, 'anonymousDepartment': False, 'pinned': False, 'forumId': '275e0c11-82d0-43df-9606-502f5727716d', 'replyId': None, 'createdAt': '2017-10-29T19:04:51.320Z', 'updatedAt': '2017-10-31T05:22:58.329Z', 'commentCount': 11, 'likeCount': 27, 'withNickname': True, 'tags': ['海拉', '臣服', '霸氣', '氣場', '一個', '搖搖擺擺', 'miss', 'oh', '電暈', '光光', '向前走', '其實我是', '腦粉', '壓迫到', '人民', '角色', '無限期', '雷神', '凱特', '幾天'], 'forumName': '電影', 'forumAlias': 'movie', 'gender': 'F', 'school': '滴滴答答', 'department': 'littleonelikeme', 'replyTitle': None, 'reportReason': '', 'hidden': False, 'withImages': False, 'withVideos': False, 'media': []}, {'id': 227582109, 'title': '#問 二戰電影的名字', 'excerpt': '記得很久之前在學校看過一部二戰的電影，印象中是一個軍官跟一個女孩相愛，最後女孩一直要男主角下火車，可是男主角沒有下火車，結果一整車的（荷蘭或是波蘭）軍官就被處刑殺死了，請問有人知道這一部電影是什麼嗎？', 'anonymousSchool': False, 'anonymousDepartment': True, 'pinned': False, 'forumId': '275e0c11-82d0-43df-9606-502f5727716d', 'replyId': None, 'createdAt': '2017-10-29T15:42:57.774Z', 'updatedAt': '2017-10-29T15:42:57.774Z', 'commentCount': 3, 'likeCount': 4, 'withNickname': False, 'tags': ['相愛', '什麼', '波蘭', '印象', '請問', '軍官', '二戰', '殺死', '處刑', '記得', '結果', '電影', '看過', '男主角', '學校', '荷蘭', '一個', '整車', '火車', '女孩'], 'forumName': '電影', 'forumAlias': 'movie', 'gender': 'M', 'school': '嶺東科大', 'replyTitle': None, 'reportReason': '', 'hidden': False, 'withImages': False, 'withVideos': False, 'media': []}, {'id': 227580982, 'title': '#阿莉芙 真的沒讓人失望', 'excerpt': '自從看到網路上的預告，就被阿莉芙這部電影吸引！，有機會看了試映會，果然沒讓我失望，是我很喜歡的題材！，這部電影探討的都是爭議不小的議題，同性戀、變性人、男扮女裝，甚至原住民的傳承等，卻是以新穎的方式帶出', 'anonymousSchool': False, 'anonymousDepartment': True, 'pinned': False, 'forumId': '275e0c11-82d0-43df-9606-502f5727716d', 'replyId': None, 'createdAt': '2017-10-29T13:43:40.574Z', 'updatedAt': '2017-10-29T13:43:40.574Z', 'commentCount': 2, 'likeCount': 18, 'withNickname': False, 'tags': ['這部', '沒讓', '電影', '阿莉', '爭議', '預告', '帶出', '變性人', '網路上', '炯恩的', '就讓', '阿莉芙', '劇中', '新穎', '喜歡', '愛情故事', '題材', '男扮女裝', '傳承', '試映會', '出場'], 'forumName': '電影', 'forumAlias': 'movie', 'gender': 'M', 'school': '國立高雄應用科技大學', 'replyTitle': None, 'reportReason': '', 'hidden': False, 'withImages': False, 'withVideos': False, 'media': []}, {'id': 227580864, 'title': '#法國電影 #小小小心得 逆轉人生', 'excerpt': '第一次看是國中時班導播給我們看的，那時對這部片的感想就是好看、好笑、感人，後來看電視時 如果轉到電影台剛好在播的話就會停下來看，現在在學法文，突然想到這部是法國電影，就跑去看了，很喜歡裡面的背景音樂，聽起來讓人有平靜的感覺', 'anonymousSchool': False, 'anonymousDepartment': False, 'pinned': False, 'forumId': '275e0c11-82d0-43df-9606-502f5727716d', 'replyId': None, 'createdAt': '2017-10-29T13:30:54.906Z', 'updatedAt': '2017-10-29T16:56:51.397Z', 'commentCount': 6, 'likeCount': 78, 'withNickname': True, 'tags': ['逆轉人生', '這部', '對方', '法文', '電影', '懸殊', '筆友', '珍貴', '的話', '抽菸', '看電視', '專機', '感人', '跳傘', '友情', '電影台', '法國電影', '迪斯', '背景音樂', '小小小心得', '小心', '班導', '來看'], 'forumName': '電影', 'forumAlias': 'movie', 'gender': 'F', 'school': 'Lai', 'department': 'laiiiiii_9', 'replyTitle': None, 'reportReason': '', 'hidden': False, 'withImages': True, 'withVideos': False, 'media': [{'url': 'https://i.imgur.com/6kej2Ae.jpg'}, {'url': 'https://i.imgur.com/U2Givvu.jpg'}, {'url': 'https://i.imgur.com/ZXxS8le.jpg'}, {'url': 'https://i.imgur.com/c2u522d.jpg'}]}, {'id': 227580679, 'title': '#六弄咖啡館 #重播 不弄不行的影評回顧', 'excerpt': '今天在電視上看到六弄重播...，又讓我想起當年的那份情感。', 'anonymousSchool': False, 'anonymousDepartment': False, 'pinned': False, 'forumId': '275e0c11-82d0-43df-9606-502f5727716d', 'replyId': 224522498, 'createdAt': '2017-10-29T13:06:36.205Z', 'updatedAt': '2017-10-29T13:06:36.205Z', 'commentCount': 4, 'likeCount': 7, 'withNickname': False, 'tags': ['情感', '六弄', '六弄咖啡館', '回顧', '當年', '重播', '電視', '影評', '上看'], 'forumName': '電影', 'forumAlias': 'movie', 'gender': 'M', 'school': '嘉義大學', 'department': '企業管理學系', 'replyTitle': '#六弄咖啡館 不弄不行的影評心得 (有雷)', 'reportReason': '', 'hidden': False, 'withImages': False, 'withVideos': False, 'media': []}, {'id': 227579863, 'title': '#問 姊妹好友閨蜜小資女 戲劇電影', 'excerpt': '請問有沒有一群姊妹好友幫女主角，脫離爛人或助攻幫她大變身，或是小資女感情很好的姊妹生活之類的電影或戲劇呢？-，例如之前有短髮夏莉和捲毛女主角的韓劇！（忘記名字），女人30情定水舞間（沒看完 好像有三個小資女好友）', 'anonymousSchool': False, 'anonymousDepartment': True, 'pinned': False, 'forumId': '275e0c11-82d0-43df-9606-502f5727716d', 'replyId': None, 'createdAt': '2017-10-29T11:10:29.500Z', 'updatedAt': '2017-10-29T12:44:51.745Z', 'commentCount': 6, 'likeCount': 6, 'withNickname': False, 'tags': ['HIDE_THUMBNAIL'], 'forumName': '電影', 'forumAlias': 'movie', 'gender': 'F', 'school': '台南應用科技大學', 'replyTitle': None, 'reportReason': '', 'hidden': False, 'withImages': False, 'withVideos': False, 'media': []}, {'id': 227579686, 'title': '#金牌特務2 #情報 基酒對決 下集的大反派', 'excerpt': '今天我們想跟卡友們聊聊「金牌特務2：機密對決」這部電影，魔鬼總藏在細節裡，今天我們就試著以「酒」的角度來切入這部電影吧！，----------防雷線-----------，金牌特務2的主軸可以說是圍繞著任特曼（statesman）這個組織。', 'anonymousSchool': False, 'anonymousDepartment': False, 'pinned': False, 'forumId': '275e0c11-82d0-43df-9606-502f5727716d', 'replyId': None, 'createdAt': '2017-10-29T10:41:47.543Z', 'updatedAt': '2017-10-30T17:28:43.743Z', 'commentCount': 9, 'likeCount': 101, 'withNickname': True, 'tags': ['華麗', '這部', '情報', '酒類', '金牌特務2', '電影', '威士忌', '對決', '龍舌蘭', '更多文章都在臉書粉專', '角色', '觀眾', '波本威士忌', '一定沒人看到最後', '飾演', '釀造', '中的', '種類', '金牌特務', '基酒', '美國', '組織', '主軸', '大反派', '香檳', '稱為', '地位'], 'forumName': '電影', 'forumAlias': 'movie', 'gender': 'M', 'school': '嚐試 DrinkSlow', 'department': 'drinkslowly', 'replyTitle': None, 'reportReason': '', 'hidden': False, 'withImages': True, 'withVideos': False, 'media': [{'url': 'http://i.imgur.com/scKqKEv.jpg'}]}, {'id': 227579576, 'title': '忌日快樂 #影評 #推薦', 'excerpt': '這禮拜假日的最後一天，在這邊跟大家分享一部覺得還不錯的ON檔電影~，全文來源（圖文並茂），有關時間輪迴的劇情可以說是層出不窮、屢見不鮮的老梗，基本的套路不外乎就是主角不停重複經歷一天的生活日常，並且慢慢地推敲出輪迴的原因，找出解除夢靨般一天的神秘機制。那麼在眾多使用如此敘事法的電影中該如何脫穎而出便是每個電影團隊該去腦力激盪的時刻了。', 'anonymousSchool': False, 'anonymousDepartment': False, 'pinned': False, 'forumId': '275e0c11-82d0-43df-9606-502f5727716d', 'replyId': None, 'createdAt': '2017-10-29T10:21:37.529Z', 'updatedAt': '2017-11-01T12:26:39.928Z', 'commentCount': 7, 'likeCount': 40, 'withNickname': True, 'tags': ['驚悚', '這部', '家族', '電影', '父親', '推薦', '渾渾噩噩', '至極', 'carter', '輪迴', '觀眾', 'tree', '瘋子', '夢靨', '殺手', '兇手', '快樂', '老梗', 'jessica', '喜劇', '荒謬', '天都', '影評'], 'forumName': '電影', 'forumAlias': 'movie', 'gender': 'F', 'school': 'Zëë', 'department': 'zee', 'replyTitle': None, 'reportReason': '', 'hidden': False, 'withImages': False, 'withVideos': False, 'media': []}, {'id': 227579483, 'title': '#問  一齣想不起來的恐怖片', 'excerpt': '一齣泰國的還是日本的有點忘了。但故事中有一段我超有印象！！！，一個女生在路上看到一台救護車開過，看到後門玻璃上東西，就跑去自殺了！，有人知道這齣嗎？', 'anonymousSchool': False, 'anonymousDepartment': False, 'pinned': False, 'forumId': '275e0c11-82d0-43df-9606-502f5727716d', 'replyId': None, 'createdAt': '2017-10-29T10:02:42.707Z', 'updatedAt': '2017-11-01T18:32:04.641Z', 'commentCount': 4, 'likeCount': 3, 'withNickname': False, 'tags': ['HIDE_THUMBNAIL'], 'forumName': '電影', 'forumAlias': 'movie', 'gender': 'M', 'school': '文藻外語大學', 'department': '英國語言系', 'replyTitle': None, 'reportReason': '', 'hidden': False, 'withImages': False, 'withVideos': False, 'media': []}]\n"
     ]
    }
   ],
   "source": [
    "print(get_forum_posts(\"movie\"))"
   ]
  },
  {
   "cell_type": "code",
   "execution_count": 4,
   "metadata": {
    "scrolled": false
   },
   "outputs": [
    {
     "name": "stdout",
     "output_type": "stream",
     "text": [
      "{'id': 227608258, 'title': '#問  有推薦的搞笑電影嗎？？', 'content': '有推薦的搞笑電影嗎？？\\n什麼都可以  夠好笑就好\\n有的話快告訴我吧～～', 'excerpt': '有推薦的搞笑電影嗎？？什麼都可以  夠好笑就好，有的話快告訴我吧～～', 'anonymousSchool': False, 'anonymousDepartment': True, 'pinned': False, 'forumId': '275e0c11-82d0-43df-9606-502f5727716d', 'replyId': None, 'createdAt': '2017-11-02T01:01:45.896Z', 'updatedAt': '2017-11-02T01:01:45.896Z', 'commentCount': 10, 'likeCount': 0, 'tags': ['問', '什麼', '電影', '推薦'], 'withNickname': False, 'reportReason': '', 'hiddenByAuthor': False, 'forumName': '電影', 'forumAlias': 'movie', 'gender': 'M', 'school': '南亞技術學院', 'replyTitle': None, 'personaSubscriptable': False, 'hidden': False, 'withImages': False, 'withVideos': False, 'media': []}\n"
     ]
    }
   ],
   "source": [
    "print(get_single_post(227608258))"
   ]
  },
  {
   "cell_type": "code",
   "execution_count": 5,
   "metadata": {},
   "outputs": [
    {
     "name": "stdout",
     "output_type": "stream",
     "text": [
      "[{'id': '3bd6d251-1184-416e-8e74-12973c396c4e', 'anonymous': True, 'postId': 227608258, 'createdAt': '2017-11-02T01:12:28.434Z', 'updatedAt': '2017-11-02T01:12:28.434Z', 'floor': 1, 'content': '國片大多都是', 'likeCount': 0, 'withNickname': False, 'hiddenByAuthor': False, 'gender': 'M', 'school': '國立中山大學', 'host': False, 'reportReason': '', 'hidden': False, 'inReview': False}, {'id': 'b1f34c54-1ea3-406c-ac1e-8cbf54998f86', 'anonymous': True, 'postId': 227608258, 'createdAt': '2017-11-02T01:23:02.501Z', 'updatedAt': '2017-11-02T01:23:02.501Z', 'floor': 2, 'content': '我上次發文詢問的電影名\\n我最後看了還不錯\\n叫做 waiting 哈拉上菜\\n不過有點黃 然後笑點很美式', 'likeCount': 0, 'withNickname': False, 'hiddenByAuthor': False, 'gender': 'M', 'school': '中國醫藥大學', 'host': False, 'reportReason': '', 'hidden': False, 'inReview': False}, {'id': '124bd31f-9875-45a2-8182-4397e3299842', 'anonymous': True, 'postId': 227608258, 'createdAt': '2017-11-02T01:23:25.973Z', 'updatedAt': '2017-11-02T01:23:25.973Z', 'floor': 3, 'content': '周星馳的電影 大部分都是喔喔\\n外國的話推薦影集 big bang 宅男行不行', 'likeCount': 1, 'withNickname': False, 'hiddenByAuthor': False, 'gender': 'F', 'school': '國立高雄應用科技大學', 'host': False, 'reportReason': '', 'hidden': False, 'inReview': False}, {'id': '697a6d94-e429-4ac6-b7db-afb3fef2e590', 'anonymous': True, 'postId': 227608258, 'createdAt': '2017-11-02T01:27:39.509Z', 'updatedAt': '2017-11-02T01:27:39.509Z', 'floor': 4, 'content': '太棒了', 'likeCount': 0, 'withNickname': False, 'hiddenByAuthor': False, 'gender': 'M', 'school': '南亞技術學院', 'host': True, 'reportReason': '', 'hidden': False, 'inReview': False}, {'id': '53502364-2f5b-41ef-bf3f-3227879e9060', 'anonymous': True, 'postId': 227608258, 'createdAt': '2017-11-02T01:28:03.890Z', 'updatedAt': '2017-11-02T01:28:03.890Z', 'floor': 5, 'content': '終極殺陣', 'likeCount': 1, 'withNickname': False, 'hiddenByAuthor': False, 'gender': 'F', 'school': '東海大學', 'host': False, 'reportReason': '', 'hidden': False, 'inReview': False}, {'id': '3b3d3f05-3e12-48f9-b3bd-511f9dd3720c', 'anonymous': True, 'postId': 227608258, 'createdAt': '2017-11-02T01:30:20.067Z', 'updatedAt': '2017-11-02T01:30:20.067Z', 'floor': 6, 'content': 'B3 周星馳哦哦', 'likeCount': 1, 'withNickname': False, 'hiddenByAuthor': False, 'gender': 'M', 'school': '南亞技術學院', 'host': True, 'reportReason': '', 'hidden': False, 'inReview': False}, {'id': '9fd225ca-1e9f-416c-9ab2-62271237a555', 'anonymous': False, 'postId': 227608258, 'createdAt': '2017-11-02T01:50:16.051Z', 'updatedAt': '2017-11-02T01:50:16.051Z', 'floor': 7, 'content': '銀幕大角頭', 'likeCount': 0, 'withNickname': False, 'hiddenByAuthor': False, 'gender': 'F', 'school': '銘傳大學', 'department': '廣告學系', 'host': False, 'reportReason': '', 'hidden': False, 'inReview': False}, {'id': 'e154ea74-b8b5-4d60-a6e8-70315218e195', 'anonymous': True, 'postId': 227608258, 'createdAt': '2017-11-02T01:50:28.447Z', 'updatedAt': '2017-11-02T01:50:28.447Z', 'floor': 8, 'content': '難道原po也是周星馳同好~~~👍👍👀👅', 'likeCount': 1, 'withNickname': False, 'hiddenByAuthor': False, 'gender': 'F', 'school': '國立高雄應用科技大學', 'host': False, 'reportReason': '', 'hidden': False, 'inReview': False}, {'id': 'c3a8f71e-00a9-447b-a900-541855d598a4', 'anonymous': True, 'postId': 227608258, 'createdAt': '2017-11-02T01:54:19.792Z', 'updatedAt': '2017-11-02T01:54:19.792Z', 'floor': 9, 'content': 'B8 愛死他了哈哈哈哈哈哈', 'likeCount': 1, 'withNickname': False, 'hiddenByAuthor': False, 'gender': 'M', 'school': '南亞技術學院', 'host': True, 'reportReason': '', 'hidden': False, 'inReview': False}]\n"
     ]
    }
   ],
   "source": [
    "print(get_comment_by_pid(227608258))"
   ]
  }
 ],
 "metadata": {
  "kernelspec": {
   "display_name": "Python 3",
   "language": "python",
   "name": "python3"
  },
  "language_info": {
   "codemirror_mode": {
    "name": "ipython",
    "version": 3
   },
   "file_extension": ".py",
   "mimetype": "text/x-python",
   "name": "python",
   "nbconvert_exporter": "python",
   "pygments_lexer": "ipython3",
   "version": "3.6.0"
  }
 },
 "nbformat": 4,
 "nbformat_minor": 1
}
